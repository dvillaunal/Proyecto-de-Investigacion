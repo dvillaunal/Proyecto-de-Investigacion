{
 "cells": [
  {
   "cell_type": "code",
   "execution_count": 5,
   "id": "03d1a100",
   "metadata": {},
   "outputs": [],
   "source": [
    "import pandas as pd"
   ]
  },
  {
   "cell_type": "code",
   "execution_count": 15,
   "id": "d0f40ce2",
   "metadata": {},
   "outputs": [],
   "source": [
    "df = pd.read_excel('url17.xlsb', engine='pyxlsb',skiprows=[i for i in range(10)])"
   ]
  },
  {
   "cell_type": "code",
   "execution_count": 18,
   "id": "1f30835d",
   "metadata": {},
   "outputs": [
    {
     "data": {
      "text/plain": [
       "Código de \\nla Institución                  int64\n",
       "IES PADRE                                   int64\n",
       "Institución de Educación Superior (IES)    object\n",
       "Principal\\n o\\nSeccional                   object\n",
       "ID Sector IES                               int64\n",
       "Sector IES                                 object\n",
       "ID Caracter                                 int64\n",
       "Caracter IES                               object\n",
       "Código del \\ndepartamento\\n(IES)            int64\n",
       "Departamento de \\ndomicilio de la IES      object\n",
       "Código del \\nMunicipio\\n(IES)               int64\n",
       "Municipio de\\ndomicilio de la IES          object\n",
       "Código \\nSNIES del\\nprograma                int64\n",
       "Programa Académico                         object\n",
       "ID Nivel Académico                          int64\n",
       "Nivel Académico                            object\n",
       "ID Nivel de Formación                       int64\n",
       "Nivel de Formación                         object\n",
       "ID Metodología                              int64\n",
       "Metodología                                object\n",
       "ID Área                                     int64\n",
       "Área de Conocimiento                       object\n",
       "Id_Nucleo                                   int64\n",
       "Núcleo Básico del Conocimiento (NBC)       object\n",
       "Código del \\nDepartamento\\n(Programa)       int64\n",
       "Departamento de oferta del programa        object\n",
       "Código del \\nMunicipio\\n(Programa)          int64\n",
       "Municipio de oferta del programa           object\n",
       "ID Sexo                                     int64\n",
       "Sexo                                       object\n",
       "Año*                                        int64\n",
       "Semestre                                    int64\n",
       "Graduados                                   int64\n",
       "dtype: object"
      ]
     },
     "execution_count": 18,
     "metadata": {},
     "output_type": "execute_result"
    }
   ],
   "source": [
    "df.dtypes"
   ]
  },
  {
   "cell_type": "code",
   "execution_count": 19,
   "id": "608ea131",
   "metadata": {},
   "outputs": [],
   "source": [
    "df.to_excel('url17.xlsx')"
   ]
  },
  {
   "cell_type": "code",
   "execution_count": 39,
   "id": "36e66404",
   "metadata": {},
   "outputs": [],
   "source": [
    "l = [18, 24, 30, 36]\n",
    "u = []\n",
    "for i in range(len(l)):\n",
    "    exec(\"u.append(\\\"url\"+str(l[i])+\".xlsb\\\")\")"
   ]
  },
  {
   "cell_type": "code",
   "execution_count": 40,
   "id": "843934ba",
   "metadata": {},
   "outputs": [
    {
     "data": {
      "text/plain": [
       "['url18.xlsb', 'url24.xlsb', 'url30.xlsb', 'url36.xlsb']"
      ]
     },
     "execution_count": 40,
     "metadata": {},
     "output_type": "execute_result"
    }
   ],
   "source": [
    "u"
   ]
  },
  {
   "cell_type": "code",
   "execution_count": 48,
   "id": "2b94ce30",
   "metadata": {},
   "outputs": [],
   "source": [
    "for i in range(len(u)):\n",
    "    exec(\"df\"+str(l[i])+\" = pd.read_excel('\"+u[i]+\"', engine = 'pyxlsb', skiprows = [i for i in range(6)])\")"
   ]
  },
  {
   "cell_type": "code",
   "execution_count": 54,
   "id": "9933ec5a",
   "metadata": {},
   "outputs": [],
   "source": [
    "u = []\n",
    "for i in range(len(l)):\n",
    "    exec(\"u.append(\\\"url\"+str(l[i])+\".xlsx\\\")\")"
   ]
  },
  {
   "cell_type": "code",
   "execution_count": 55,
   "id": "8c328660",
   "metadata": {},
   "outputs": [
    {
     "data": {
      "text/plain": [
       "['url18.xlsx', 'url24.xlsx', 'url30.xlsx', 'url36.xlsx']"
      ]
     },
     "execution_count": 55,
     "metadata": {},
     "output_type": "execute_result"
    }
   ],
   "source": [
    "u"
   ]
  },
  {
   "cell_type": "code",
   "execution_count": 56,
   "id": "7c35ec4d",
   "metadata": {},
   "outputs": [],
   "source": [
    "for i in range(len(u)):\n",
    "    exec(\"df\"+str(l[i])+\".to_excel('\"+u[i]+\"')\")"
   ]
  }
 ],
 "metadata": {
  "hide_input": false,
  "kernelspec": {
   "display_name": "Python 3 (ipykernel)",
   "language": "python",
   "name": "python3"
  },
  "language_info": {
   "codemirror_mode": {
    "name": "ipython",
    "version": 3
   },
   "file_extension": ".py",
   "mimetype": "text/x-python",
   "name": "python",
   "nbconvert_exporter": "python",
   "pygments_lexer": "ipython3",
   "version": "3.10.6"
  },
  "toc": {
   "base_numbering": 1,
   "nav_menu": {},
   "number_sections": true,
   "sideBar": true,
   "skip_h1_title": false,
   "title_cell": "Table of Contents",
   "title_sidebar": "Contents",
   "toc_cell": false,
   "toc_position": {},
   "toc_section_display": true,
   "toc_window_display": false
  },
  "varInspector": {
   "cols": {
    "lenName": 16,
    "lenType": 16,
    "lenVar": 40
   },
   "kernels_config": {
    "python": {
     "delete_cmd_postfix": "",
     "delete_cmd_prefix": "del ",
     "library": "var_list.py",
     "varRefreshCmd": "print(var_dic_list())"
    },
    "r": {
     "delete_cmd_postfix": ") ",
     "delete_cmd_prefix": "rm(",
     "library": "var_list.r",
     "varRefreshCmd": "cat(var_dic_list()) "
    }
   },
   "types_to_exclude": [
    "module",
    "function",
    "builtin_function_or_method",
    "instance",
    "_Feature"
   ],
   "window_display": false
  }
 },
 "nbformat": 4,
 "nbformat_minor": 5
}
